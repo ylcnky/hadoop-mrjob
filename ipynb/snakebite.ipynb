{
 "cells": [
  {
   "cell_type": "code",
   "execution_count": 1,
   "metadata": {
    "collapsed": true
   },
   "outputs": [],
   "source": [
    "# Snakebite is pretty easy to install!\n",
    "#   sudo pip install snakebite\n",
    "# Note that \"import snakebite\" doesn't seem to do much. You need to import this way.\n",
    "\n",
    "from snakebite.client import Client"
   ]
  },
  {
   "cell_type": "code",
   "execution_count": 2,
   "metadata": {
    "collapsed": true
   },
   "outputs": [],
   "source": [
    "# This starts up our client connection.\n",
    "#   \"Localhost\" is the hostname or IP adress of where the NameNode is.\n",
    "#       ... in production it would not be localhost\n",
    "#   9000 is the default port for NameNode communications.\n",
    "#   use_trash is just telling the client to not put things in the trash when you \"rm\" them.\n",
    "client = Client(\"localhost\", 9000, use_trash=False)"
   ]
  },
  {
   "cell_type": "code",
   "execution_count": 3,
   "metadata": {
    "collapsed": false
   },
   "outputs": [
    {
     "data": {
      "text/plain": [
       "['COUNT_ATTRIBUTES',\n",
       " 'FILETYPES',\n",
       " 'LISTING_ATTRIBUTES',\n",
       " 'cat',\n",
       " 'chgrp',\n",
       " 'chmod',\n",
       " 'chown',\n",
       " 'copyToLocal',\n",
       " 'count',\n",
       " 'delete',\n",
       " 'df',\n",
       " 'du',\n",
       " 'getmerge',\n",
       " 'host',\n",
       " 'ls',\n",
       " 'mkdir',\n",
       " 'port',\n",
       " 'rename',\n",
       " 'rename2',\n",
       " 'rmdir',\n",
       " 'serverdefaults',\n",
       " 'service',\n",
       " 'service_stub_class',\n",
       " 'setrep',\n",
       " 'stat',\n",
       " 'tail',\n",
       " 'test',\n",
       " 'text',\n",
       " 'touchz',\n",
       " 'trash',\n",
       " 'use_trash']"
      ]
     },
     "execution_count": 3,
     "metadata": {},
     "output_type": "execute_result"
    }
   ],
   "source": [
    "# These are some of the commands available to you through Snakebite\n",
    "[ d for d in dir(client) if d[0] != '_']"
   ]
  },
  {
   "cell_type": "code",
   "execution_count": 4,
   "metadata": {
    "collapsed": false
   },
   "outputs": [
    {
     "name": "stdout",
     "output_type": "stream",
     "text": [
      "{'group': u'supergroup', 'permission': 493, 'file_type': 'd', 'access_time': 0L, 'block_replication': 0, 'modification_time': 1428425016161L, 'length': 0L, 'blocksize': 0L, 'owner': u'python', 'path': '/user/python/indata'}\n",
      "{'group': u'supergroup', 'permission': 493, 'file_type': 'd', 'access_time': 0L, 'block_replication': 0, 'modification_time': 1428424999362L, 'length': 0L, 'blocksize': 0L, 'owner': u'python', 'path': '/user/python/outdata'}\n",
      "{'group': u'supergroup', 'permission': 493, 'file_type': 'd', 'access_time': 0L, 'block_replication': 0, 'modification_time': 1428203246026L, 'length': 0L, 'blocksize': 0L, 'owner': u'python', 'path': '/user/python/pgout'}\n",
      "{'group': u'supergroup', 'permission': 493, 'file_type': 'd', 'access_time': 0L, 'block_replication': 0, 'modification_time': 1428201343597L, 'length': 0L, 'blocksize': 0L, 'owner': u'python', 'path': '/user/python/salarydata'}\n",
      "{'group': u'supergroup', 'permission': 493, 'file_type': 'd', 'access_time': 0L, 'block_replication': 0, 'modification_time': 1428201357130L, 'length': 0L, 'blocksize': 0L, 'owner': u'python', 'path': '/user/python/wcdata'}\n",
      "{'group': u'supergroup', 'permission': 420, 'file_type': 'f', 'access_time': 1428423283809L, 'block_replication': 1, 'modification_time': 1428423284805L, 'length': 29887L, 'blocksize': 134217728L, 'owner': u'python', 'path': '/user/python/wordcount.py.out'}\n"
     ]
    }
   ],
   "source": [
    "# Here is an example of \"ls\"\n",
    "for x in client.ls(['/user/python']):\n",
    "    print x"
   ]
  },
  {
   "cell_type": "code",
   "execution_count": 5,
   "metadata": {
    "collapsed": false
   },
   "outputs": [
    {
     "name": "stdout",
     "output_type": "stream",
     "text": [
      "Found 6 items\r\n",
      "drwxr-xr-x   - python     supergroup          0 2015-04-07 12:43 /user/python/indata\r\n",
      "drwxr-xr-x   - python     supergroup          0 2015-04-07 12:43 /user/python/outdata\r\n",
      "drwxr-xr-x   - python     supergroup          0 2015-04-04 23:07 /user/python/pgout\r\n",
      "drwxr-xr-x   - python     supergroup          0 2015-04-04 22:35 /user/python/salarydata\r\n",
      "drwxr-xr-x   - python     supergroup          0 2015-04-04 22:35 /user/python/wcdata\r\n",
      "-rw-r--r--   1 python     supergroup      29887 2015-04-07 12:14 /user/python/wordcount.py.out\r\n"
     ]
    }
   ],
   "source": [
    "# Note that you can use snakebite at the command line!\n",
    "# It's quite faster than hadoop fs -ls because it doesn't start up a jvm every time\n",
    "!snakebite ls /user/python\n",
    "\n",
    "# note: if you didn't know, in ipython using a ! runs a shell command."
   ]
  },
  {
   "cell_type": "code",
   "execution_count": 6,
   "metadata": {
    "collapsed": false
   },
   "outputs": [
    {
     "name": "stdout",
     "output_type": "stream",
     "text": [
      "\"bennet\"\t293\n",
      "\"bingley\"\t257\n",
      "\"could\"\t525\n",
      "\"darcy\"\t371\n",
      "\"elizabeth\"\t594\n",
      "\"jane\"\t263\n",
      "\"know\"\t239\n",
      "\"may\"\t207\n",
      "\"miss\"\t283\n",
      "\"mr\"\t783\n",
      "\"mrs\"\t343\n",
      "\"much\"\t328\n",
      "\"must\"\t318\n",
      "\"never\"\t220\n",
      "\"one\"\t266\n",
      "\"said\"\t401\n",
      "\"soon\"\t216\n",
      "\"think\"\t211\n",
      "\"though\"\t220\n",
      "\"well\"\t212\n",
      "\"would\"\t469\n"
     ]
    }
   ],
   "source": [
    "# This script takes a look at the top words from the word count output\n",
    "#    Thought: Maybe it would be a good follow-on process to the mrjob script?\n",
    "\n",
    "import string\n",
    "\n",
    "s = []\n",
    "\n",
    "# wordcount.py.out was created by the wordcount.py mrjob script\n",
    "for f in client.cat(['wordcount.py.out']):\n",
    "    # cat creates one generator per item in parenthesis\n",
    "    for g in f:\n",
    "        # it then creates one generator per chunk of data\n",
    "        s.append(str(g)) \n",
    "\n",
    "# reconstitute all the data together\n",
    "s = ''.join(s)\n",
    "\n",
    "# see if we can pull out some important names from Pride & Prejudice\n",
    "for line in s.split('\\n'):\n",
    "    if len(line.strip()) == 0: continue\n",
    "    \n",
    "    count = int(line.split('\\t')[-1])\n",
    "    if count > 200:\n",
    "        print line\n"
   ]
  },
  {
   "cell_type": "code",
   "execution_count": 6,
   "metadata": {
    "collapsed": false
   },
   "outputs": [
    {
     "name": "stdout",
     "output_type": "stream",
     "text": [
      "Running the setup commands...\n",
      "15/04/07 12:43:06 INFO fs.TrashPolicyDefault: Namenode trash configuration: Deletion interval = 0 minutes, Emptier interval = 0 minutes.\n",
      "Deleted /user/python/outdata\n",
      "15/04/07 12:43:10 INFO fs.TrashPolicyDefault: Namenode trash configuration: Deletion interval = 0 minutes, Emptier interval = 0 minutes.\n",
      "Deleted /user/python/indata\n",
      "Done running the setup commands.\n"
     ]
    }
   ],
   "source": [
    "# Exercise: Take the list of poorly named files in indata and move them to outdata with new names\n",
    "#  Snakebite is great at implementing automated data organization tasks like this\n",
    "\n",
    "# You can ignore the following. These shell commands are setting up the exercise for you.\n",
    "# Note that the hadoop commands can take a few seconds each.\n",
    "print \"Running the setup commands...\"\n",
    "!hadoop fs -rm -r /user/python/outdata\n",
    "!hadoop fs -rm -r /user/python/indata\n",
    "!hadoop fs -mkdir /user/python/indata\n",
    "!hadoop fs -mkdir /user/python/outdata\n",
    "!echo \"this is a file\" | hadoop fs -put - /user/python/indata/in1.txt\n",
    "!echo \"python is awesome\" | hadoop fs -put - /user/python/indata/in2.txt\n",
    "!echo \"hadoop is fun\" | hadoop fs -put - /user/python/indata/in3.txt\n",
    "print \"Done running the setup commands.\"\n",
    "\n",
    "# Python starts here\n",
    "import time\n",
    "\n",
    "# you'll use this time stamp later\n",
    "now = int(time.time())\n",
    "\n",
    "# Using snakebite, do an \"ls\" on /user/python/indata/\n",
    "# STOP! Test your \"ls\" with print to make sure you are listing the contents of indata\n",
    "#   if you don't you might blow something up in the next step\n",
    "\n",
    "\n",
    "# Iterate through each file in indata (output of ls) and move the file to outdata\n",
    "#   rename the file using the timestamp. Use \"rename\" for this."
   ]
  },
  {
   "cell_type": "code",
   "execution_count": null,
   "metadata": {
    "collapsed": true
   },
   "outputs": [],
   "source": []
  }
 ],
 "metadata": {
  "kernelspec": {
   "display_name": "Python 2",
   "language": "python",
   "name": "python2"
  },
  "language_info": {
   "codemirror_mode": {
    "name": "ipython",
    "version": 2
   },
   "file_extension": ".py",
   "mimetype": "text/x-python",
   "name": "python",
   "nbconvert_exporter": "python",
   "pygments_lexer": "ipython2",
   "version": "2.7.5"
  }
 },
 "nbformat": 4,
 "nbformat_minor": 0
}
